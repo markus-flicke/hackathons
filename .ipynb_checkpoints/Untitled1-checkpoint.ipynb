{
 "cells": [
  {
   "cell_type": "code",
   "execution_count": 2,
   "metadata": {},
   "outputs": [],
   "source": [
    "import pickle\n",
    "\n",
    "with open('eventbrite_25042020.pkl', 'rb') as file:\n",
    "    events = pickle.load(file)"
   ]
  },
  {
   "cell_type": "code",
   "execution_count": 5,
   "metadata": {},
   "outputs": [
    {
     "data": {
      "text/plain": [
       "title: HackCOVID - Weekly Anti-Coronavirus Online Hackathon\n",
       "date: 24 Apr\n",
       "url: https://www.eventbrite.com/e/hackcovid-weekly-anti-coronavirus-online-hackathon-tickets-101126405802?aff=ebdssbonlinesearch\n",
       "description: \n",
       "Sign up at HackCOVID.org to join the weekly anti-coronavirus hackathon! Many organizations on the frontlines of this medical war desperately need all the help they can get as soon as possible. Our mission is to combine technology, medicine, entrepreneurship, and education to DEFEAT CORONAVIRUS.Remember to register at HackCOVID.org for weekly notifications so you don't have to get an Eventbrite ticket for every HackCOVID!MENTORS: http://bit.ly/HackCOVID-Mentorshttp://facebook.com/groups/HackCOVID\n"
      ]
     },
     "execution_count": 5,
     "metadata": {},
     "output_type": "execute_result"
    }
   ],
   "source": [
    "events[0]"
   ]
  },
  {
   "cell_type": "code",
   "execution_count": 6,
   "metadata": {},
   "outputs": [],
   "source": [
    "import bs4"
   ]
  },
  {
   "cell_type": "code",
   "execution_count": 44,
   "metadata": {},
   "outputs": [],
   "source": [
    "def convert_html_to_text(html):\n",
    "    import re\n",
    "    bs4_object = bs4.BeautifulSoup(html, \"html.parser\").find('section', attrs={'class':'listing-info clrfix'})\n",
    "    event_text = bs4_object.text\n",
    "    event_text = re.sub('[\\n\\t]+', ' ', event_text)\n",
    "    return event_text"
   ]
  },
  {
   "cell_type": "code",
   "execution_count": 46,
   "metadata": {},
   "outputs": [
    {
     "data": {
      "text/plain": [
       "\" Event Information Share this event Date and Time Fri, Apr 24, 2020, 5:00 PM – Sat, Apr 25, 2020, 5:00 PM CDT Add to Calendar Fri, Apr 24 (5:00 PM) Fri, May 1 (5:00 PM) Fri, May 8 (5:00 PM) Fri, May 15 (5:00 PM) Fri, May 22 (5:00 PM) Event description Sign up at HackCOVID.org to join the weekly anti-coronavirus hackathon and defeat coronavirus! Read more Read less About this Event Sign up at HackCOVID.org to join the weekly anti-coronavirus hackathon! Many organizations on the frontlines of this medical war desperately need all the help they can get as soon as possible. Our mission is to combine technology, medicine, entrepreneurship, and education to DEFEAT CORONAVIRUS.Remember to register at HackCOVID.org for weekly notifications so you don't have to get an Eventbrite ticket for every HackCOVID!MENTORS: http://bit.ly/HackCOVID-Mentorshttp://facebook.com/groups/HackCOVID Tags Tags Online Events Online Games Online Science & Tech Games Share with friends Share with friends Date and Time Fri, Apr 24, 2020, 5:00 PM – Sat, Apr 25, 2020, 5:00 PM CDT Add to Calendar Fri, Apr 24 (5:00 PM) Fri, May 1 (5:00 PM) Fri, May 8 (5:00 PM) Fri, May 15 (5:00 PM) Fri, May 22 (5:00 PM) \""
      ]
     },
     "execution_count": 46,
     "metadata": {},
     "output_type": "execute_result"
    }
   ],
   "source": [
    "convert_html_to_text(events[0].html)"
   ]
  },
  {
   "cell_type": "code",
   "execution_count": null,
   "metadata": {},
   "outputs": [],
   "source": []
  }
 ],
 "metadata": {
  "kernelspec": {
   "display_name": "Python 3",
   "language": "python",
   "name": "python3"
  },
  "language_info": {
   "codemirror_mode": {
    "name": "ipython",
    "version": 3
   },
   "file_extension": ".py",
   "mimetype": "text/x-python",
   "name": "python",
   "nbconvert_exporter": "python",
   "pygments_lexer": "ipython3",
   "version": "3.7.5"
  }
 },
 "nbformat": 4,
 "nbformat_minor": 4
}
